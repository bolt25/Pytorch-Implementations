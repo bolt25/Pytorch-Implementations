{
  "nbformat": 4,
  "nbformat_minor": 0,
  "metadata": {
    "colab": {
      "name": "LinearRegressionModel_pyTorch.ipynb",
      "version": "0.3.2",
      "provenance": [],
      "collapsed_sections": []
    },
    "kernelspec": {
      "name": "python3",
      "display_name": "Python 3"
    }
  },
  "cells": [
    {
      "metadata": {
        "id": "52PkmCkVFypY",
        "colab_type": "code",
        "colab": {}
      },
      "cell_type": "code",
      "source": [
        "# http://pytorch.org/\n",
        "from os.path import exists\n",
        "from wheel.pep425tags import get_abbr_impl, get_impl_ver, get_abi_tag\n",
        "platform = '{}{}-{}'.format(get_abbr_impl(), get_impl_ver(), get_abi_tag())\n",
        "cuda_output = !ldconfig -p|grep cudart.so|sed -e 's/.*\\.\\([0-9]*\\)\\.\\([0-9]*\\)$/cu\\1\\2/'\n",
        "accelerator = cuda_output[0] if exists('/dev/nvidia0') else 'cpu'\n",
        "\n",
        "!pip install -q http://download.pytorch.org/whl/{accelerator}/torch-0.4.1-{platform}-linux_x86_64.whl torchvision\n",
        "import torch\n",
        "import numpy as np"
      ],
      "execution_count": 0,
      "outputs": []
    },
    {
      "metadata": {
        "id": "28r8teS5F8RT",
        "colab_type": "code",
        "colab": {}
      },
      "cell_type": "code",
      "source": [
        "torch.__version__"
      ],
      "execution_count": 0,
      "outputs": []
    },
    {
      "metadata": {
        "id": "NiTVatn8fE9U",
        "colab_type": "text"
      },
      "cell_type": "markdown",
      "source": [
        "#Building a toy dataset\n"
      ]
    },
    {
      "metadata": {
        "id": "6aU_lxK_GzaB",
        "colab_type": "code",
        "colab": {}
      },
      "cell_type": "code",
      "source": [
        "x=[i for i in range(10)]\n",
        "\n",
        "x=np.array(x,dtype=np.float32).reshape(-1,1) #need to convert x into numpy array before calculating y\n",
        "\n",
        "y=2*x+3\n",
        "\n",
        "print(x.shape,y.shape)\n",
        "\n",
        "#print(x,y)"
      ],
      "execution_count": 0,
      "outputs": []
    },
    {
      "metadata": {
        "id": "EKTwcNxxf1L6",
        "colab_type": "text"
      },
      "cell_type": "markdown",
      "source": [
        "#Building model"
      ]
    },
    {
      "metadata": {
        "id": "jwy4BXeJHD-a",
        "colab_type": "code",
        "colab": {}
      },
      "cell_type": "code",
      "source": [
        "import torch.nn as nn\n",
        "from torch.autograd import Variable"
      ],
      "execution_count": 0,
      "outputs": []
    },
    {
      "metadata": {
        "id": "rVsnKCQSgHXb",
        "colab_type": "code",
        "colab": {}
      },
      "cell_type": "code",
      "source": [
        "class LinearRegressionModel(nn.Module):\n",
        "  def __init__(self,input_size,output_size):\n",
        "    super(LinearRegressionModel,self).__init__()\n",
        "    self.linear=nn.Linear(input_dim,output_dim)\n",
        "  def forward(self,x):\n",
        "    out=self.linear(x)\n",
        "    return out\n",
        "  \n",
        "    "
      ],
      "execution_count": 0,
      "outputs": []
    },
    {
      "metadata": {
        "id": "iB5vw5FNjEcZ",
        "colab_type": "code",
        "colab": {}
      },
      "cell_type": "code",
      "source": [
        "input_dim=1\n",
        "output_dim=1\n",
        "model=LinearRegressionModel(input_dim,output_dim)"
      ],
      "execution_count": 0,
      "outputs": []
    },
    {
      "metadata": {
        "id": "No9XtVi0jd9-",
        "colab_type": "text"
      },
      "cell_type": "markdown",
      "source": [
        "#Defining a loss function"
      ]
    },
    {
      "metadata": {
        "id": "gGo864T0jMol",
        "colab_type": "code",
        "colab": {}
      },
      "cell_type": "code",
      "source": [
        "loss=nn.MSELoss()"
      ],
      "execution_count": 0,
      "outputs": []
    },
    {
      "metadata": {
        "id": "jQNvW5tojp21",
        "colab_type": "text"
      },
      "cell_type": "markdown",
      "source": [
        "#Selecting an optimizer"
      ]
    },
    {
      "metadata": {
        "id": "oIIziLvejnk6",
        "colab_type": "code",
        "colab": {}
      },
      "cell_type": "code",
      "source": [
        "learn_rate=0.01\n",
        "optimizer=torch.optim.SGD(model.parameters(),lr=learn_rate)"
      ],
      "execution_count": 0,
      "outputs": []
    },
    {
      "metadata": {
        "id": "8XWvxGzzmRcN",
        "colab_type": "text"
      },
      "cell_type": "markdown",
      "source": [
        "#Training"
      ]
    },
    {
      "metadata": {
        "id": "DJxiwX46kVq1",
        "colab_type": "code",
        "colab": {}
      },
      "cell_type": "code",
      "source": [
        "epoch=20000\n",
        "for i in range(epoch):\n",
        "  inputs=Variable(torch.from_numpy(x))\n",
        "  labels=Variable(torch.from_numpy(y))\n",
        "  \n",
        "  \n",
        "  #setting gradients to zero everytime so that they do not accumulate \n",
        "  optimizer.zero_grad()\n",
        "  \n",
        "  #performing forward\n",
        "  outputs=model(inputs)\n",
        "  \n",
        "  #calculating loss\n",
        "  losses=loss(outputs,labels)\n",
        "  \n",
        "  #calculating gradients\n",
        "  losses.backward()\n",
        "  \n",
        "  #updating parameters\n",
        "  optimizer.step() \n"
      ],
      "execution_count": 0,
      "outputs": []
    },
    {
      "metadata": {
        "id": "pYJ5BtBokaYl",
        "colab_type": "code",
        "colab": {}
      },
      "cell_type": "code",
      "source": [
        "predict=model(Variable(torch.from_numpy(x))).data.numpy()\n",
        "predict"
      ],
      "execution_count": 0,
      "outputs": []
    }
  ]
}