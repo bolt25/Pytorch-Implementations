{
  "nbformat": 4,
  "nbformat_minor": 0,
  "metadata": {
    "colab": {
      "name": "Logistic_pytorch",
      "version": "0.3.2",
      "provenance": [],
      "collapsed_sections": []
    },
    "kernelspec": {
      "name": "python3",
      "display_name": "Python 3"
    },
    "accelerator": "GPU"
  },
  "cells": [
    {
      "metadata": {
        "id": "-uTwCdXzxs03",
        "colab_type": "code",
        "outputId": "a62a495f-3820-4d2b-da19-f03ba5a91e98",
        "colab": {
          "base_uri": "https://localhost:8080/",
          "height": 332
        }
      },
      "cell_type": "code",
      "source": [
        "!pip install torch torchvision"
      ],
      "execution_count": 0,
      "outputs": [
        {
          "output_type": "stream",
          "text": [
            "Collecting torch\n",
            "\u001b[?25l  Downloading https://files.pythonhosted.org/packages/49/0e/e382bcf1a6ae8225f50b99cc26effa2d4cc6d66975ccf3fa9590efcbedce/torch-0.4.1-cp36-cp36m-manylinux1_x86_64.whl (519.5MB)\n",
            "\u001b[K    100% |████████████████████████████████| 519.5MB 30kB/s \n",
            "tcmalloc: large alloc 1073750016 bytes == 0x58892000 @  0x7fd2b17a42a4 0x591a07 0x5b5d56 0x502e9a 0x506859 0x502209 0x502f3d 0x506859 0x504c28 0x502540 0x502f3d 0x506859 0x504c28 0x502540 0x502f3d 0x506859 0x504c28 0x502540 0x502f3d 0x507641 0x502209 0x502f3d 0x506859 0x504c28 0x502540 0x502f3d 0x507641 0x504c28 0x502540 0x502f3d 0x507641\n",
            "\u001b[?25hCollecting torchvision\n",
            "\u001b[?25l  Downloading https://files.pythonhosted.org/packages/ca/0d/f00b2885711e08bd71242ebe7b96561e6f6d01fdb4b9dcf4d37e2e13c5e1/torchvision-0.2.1-py2.py3-none-any.whl (54kB)\n",
            "\u001b[K    100% |████████████████████████████████| 61kB 21.1MB/s \n",
            "\u001b[?25hRequirement already satisfied: numpy in /usr/local/lib/python3.6/dist-packages (from torchvision) (1.14.6)\n",
            "Requirement already satisfied: six in /usr/local/lib/python3.6/dist-packages (from torchvision) (1.11.0)\n",
            "Collecting pillow>=4.1.1 (from torchvision)\n",
            "\u001b[?25l  Downloading https://files.pythonhosted.org/packages/62/94/5430ebaa83f91cc7a9f687ff5238e26164a779cca2ef9903232268b0a318/Pillow-5.3.0-cp36-cp36m-manylinux1_x86_64.whl (2.0MB)\n",
            "\u001b[K    100% |████████████████████████████████| 2.0MB 4.4MB/s \n",
            "\u001b[?25hInstalling collected packages: torch, pillow, torchvision\n",
            "  Found existing installation: Pillow 4.0.0\n",
            "    Uninstalling Pillow-4.0.0:\n",
            "      Successfully uninstalled Pillow-4.0.0\n",
            "Successfully installed pillow-5.3.0 torch-0.4.1 torchvision-0.2.1\n"
          ],
          "name": "stdout"
        }
      ]
    },
    {
      "metadata": {
        "id": "80j42s-ItuIK",
        "colab_type": "code",
        "colab": {
          "base_uri": "https://localhost:8080/",
          "height": 54
        },
        "outputId": "db82a672-6b66-42f7-a200-4febdd27e364"
      },
      "cell_type": "code",
      "source": [
        "# http://pytorch.org/\n",
        "from os.path import exists\n",
        "from wheel.pep425tags import get_abbr_impl, get_impl_ver, get_abi_tag\n",
        "platform = '{}{}-{}'.format(get_abbr_impl(), get_impl_ver(), get_abi_tag())\n",
        "cuda_output = !ldconfig -p|grep cudart.so|sed -e 's/.*\\.\\([0-9]*\\)\\.\\([0-9]*\\)$/cu\\1\\2/'\n",
        "accelerator = cuda_output[0] if exists('/dev/nvidia0') else 'cpu'\n",
        "\n",
        "!pip install -q http://download.pytorch.org/whl/{accelerator}/torch-0.4.1-{platform}-linux_x86_64.whl torchvision\n",
        "import torch"
      ],
      "execution_count": 2,
      "outputs": [
        {
          "output_type": "stream",
          "text": [
            "tcmalloc: large alloc 1073750016 bytes == 0x573d6000 @  0x7fccda24f2a4 0x591a07 0x5b5d56 0x502e9a 0x506859 0x502209 0x502f3d 0x506859 0x504c28 0x502540 0x502f3d 0x506859 0x504c28 0x502540 0x502f3d 0x506859 0x504c28 0x502540 0x502f3d 0x507641 0x502209 0x502f3d 0x506859 0x504c28 0x502540 0x502f3d 0x507641 0x504c28 0x502540 0x502f3d 0x507641\n"
          ],
          "name": "stdout"
        }
      ]
    },
    {
      "metadata": {
        "id": "UqB1QcKUtyMa",
        "colab_type": "code",
        "colab": {}
      },
      "cell_type": "code",
      "source": [
        "import torch\n",
        "import torch.nn as nn\n",
        "import torchvision.datasets as dsets\n",
        "import torchvision.transforms as transforms\n",
        "from torch.autograd import Variable\n"
      ],
      "execution_count": 0,
      "outputs": []
    },
    {
      "metadata": {
        "id": "JfaslXwjfpn8",
        "colab_type": "text"
      },
      "cell_type": "markdown",
      "source": [
        "# Loading Dataset"
      ]
    },
    {
      "metadata": {
        "id": "CMuJavgW0g14",
        "colab_type": "code",
        "outputId": "f65e3c44-0997-42a4-f83f-4ad3d81fd52f",
        "colab": {
          "base_uri": "https://localhost:8080/",
          "height": 119
        }
      },
      "cell_type": "code",
      "source": [
        "\n",
        "\n",
        "train_dataset = dsets.MNIST(root='C:\\\\Users\\Dharmik\\Desktop\\Handwritten digits', \n",
        "                            train=True, \n",
        "                            transform=transforms.ToTensor(),\n",
        "                            download=True)\n",
        "\n",
        "test_dataset = dsets.MNIST(root='C:\\\\Users\\Dharmik\\Desktop\\Handwritten digits', \n",
        "                           train=False, \n",
        "                           transform=transforms.ToTensor(),download=True)\n"
      ],
      "execution_count": 4,
      "outputs": [
        {
          "output_type": "stream",
          "text": [
            "Downloading http://yann.lecun.com/exdb/mnist/train-images-idx3-ubyte.gz\n",
            "Downloading http://yann.lecun.com/exdb/mnist/train-labels-idx1-ubyte.gz\n",
            "Downloading http://yann.lecun.com/exdb/mnist/t10k-images-idx3-ubyte.gz\n",
            "Downloading http://yann.lecun.com/exdb/mnist/t10k-labels-idx1-ubyte.gz\n",
            "Processing...\n",
            "Done!\n"
          ],
          "name": "stdout"
        }
      ]
    },
    {
      "metadata": {
        "id": "-TitI9O5-Scm",
        "colab_type": "code",
        "colab": {}
      },
      "cell_type": "code",
      "source": [
        "# defining hyperparameters\n",
        "\n",
        "input_size=784\n",
        "output_size=10\n",
        "learning_rate=0.01\n",
        "batch_size=100\n",
        "n_iters=3000\n",
        "total_size=len(train_dataset)\n",
        "epochs=int((n_iters*batch_size)/total_size)"
      ],
      "execution_count": 0,
      "outputs": []
    },
    {
      "metadata": {
        "id": "U3-NU4rx3Drn",
        "colab_type": "code",
        "colab": {}
      },
      "cell_type": "code",
      "source": [
        "import matplotlib.pyplot as plt\n",
        "% matplotlib inline\n",
        "import numpy as np"
      ],
      "execution_count": 0,
      "outputs": []
    },
    {
      "metadata": {
        "id": "zWCg51733Jbw",
        "colab_type": "code",
        "outputId": "e8ec2026-3701-4052-a4cd-3c8177f0e00f",
        "colab": {
          "base_uri": "https://localhost:8080/",
          "height": 51
        }
      },
      "cell_type": "code",
      "source": [
        "#visualizing the dataset \n",
        "print(train_dataset[0][0].size())\n",
        "print(train_dataset[0][0].numpy().shape)"
      ],
      "execution_count": 7,
      "outputs": [
        {
          "output_type": "stream",
          "text": [
            "torch.Size([1, 28, 28])\n",
            "(1, 28, 28)\n"
          ],
          "name": "stdout"
        }
      ]
    },
    {
      "metadata": {
        "id": "r4qRRpnt33zw",
        "colab_type": "code",
        "outputId": "08a75449-ab83-42ed-8968-2404eb5bd8a3",
        "colab": {
          "base_uri": "https://localhost:8080/",
          "height": 282
        }
      },
      "cell_type": "code",
      "source": [
        "img=train_dataset[0][0].numpy().reshape(28,28)\n",
        "plt.imshow(img,cmap ='gray')"
      ],
      "execution_count": 8,
      "outputs": [
        {
          "output_type": "execute_result",
          "data": {
            "text/plain": [
              "<matplotlib.image.AxesImage at 0x7f198e934a58>"
            ]
          },
          "metadata": {
            "tags": []
          },
          "execution_count": 8
        },
        {
          "output_type": "display_data",
          "data": {
            "image/png": "[encoded data removed]",
            "text/plain": [
              "<matplotlib.figure.Figure at 0x7f198edd7780>"
            ]
          },
          "metadata": {
            "tags": []
          }
        }
      ]
    },
    {
      "metadata": {
        "id": "I-OIY1lNf-yK",
        "colab_type": "text"
      },
      "cell_type": "markdown",
      "source": [
        "#Making the dataset iterable "
      ]
    },
    {
      "metadata": {
        "id": "gDxiEfMa571J",
        "colab_type": "code",
        "colab": {}
      },
      "cell_type": "code",
      "source": [
        "train_loader = torch.utils.data.DataLoader(dataset=train_dataset, \n",
        "                                           batch_size=batch_size, \n",
        "                                           shuffle=True)\n",
        "\n",
        "test_loader = torch.utils.data.DataLoader(dataset=test_dataset, \n",
        "                                          batch_size=batch_size, \n",
        "                                          shuffle=False)"
      ],
      "execution_count": 0,
      "outputs": []
    },
    {
      "metadata": {
        "id": "4ibv0ggpgDds",
        "colab_type": "text"
      },
      "cell_type": "markdown",
      "source": [
        "#Creating model class "
      ]
    },
    {
      "metadata": {
        "id": "O7ZkD65W_jaZ",
        "colab_type": "code",
        "colab": {}
      },
      "cell_type": "code",
      "source": [
        "class LogisticRegressionModel(nn.Module):\n",
        "  def __init__(self,input_size,output_size):\n",
        "    super(LogisticRegressionModel,self).__init__()\n",
        "    self.linear=nn.Linear(input_size,output_size)\n",
        "  def forward(self, x):\n",
        "    out=self.linear(x)\n",
        "    return out\n",
        " "
      ],
      "execution_count": 0,
      "outputs": []
    },
    {
      "metadata": {
        "id": "l5WEODs9gpxY",
        "colab_type": "text"
      },
      "cell_type": "markdown",
      "source": [
        "#Instantiating model class "
      ]
    },
    {
      "metadata": {
        "id": "VNoJvvRDAlP_",
        "colab_type": "code",
        "colab": {
          "base_uri": "https://localhost:8080/",
          "height": 119
        },
        "outputId": "70df859a-acb5-446e-8888-3d67fe2132ea"
      },
      "cell_type": "code",
      "source": [
        "model=LogisticRegressionModel(input_size,output_size)\n",
        "\n",
        "\n",
        "#defining loss function\n",
        "criterion=nn.CrossEntropyLoss()\n",
        "\n",
        "#defining optimizer\n",
        "optimizer=torch.optim.SGD(model.parameters(),lr=learning_rate)\n",
        "iters=0\n",
        "#training model\n",
        "for i in range(epochs):\n",
        "  for i,(images,labels) in enumerate(train_loader):\n",
        "    images=Variable(images.view(-1,784))\n",
        "    labels=Variable(labels)\n",
        "  \n",
        "  \n",
        "    optimizer.zero_grad()           #clearing gradients buffers\n",
        "    outputs=model(images)  \n",
        "    loss=criterion(outputs,labels)  #calculating losses\n",
        "    loss.backward()                 #calculating gradients \n",
        "    optimizer.step()                #updating parameters \n",
        "    iters+=1\n",
        "    if iters % 500==0:\n",
        "      correct = 0\n",
        "      total = 0\n",
        "      for images, labels in test_loader:\n",
        "        images = Variable(images.view(-1, 784))\n",
        "        outputs = model(images)\n",
        "        _,predicted = torch.max(outputs.data, 1)\n",
        "        total += labels.size(0)\n",
        "        correct += (predicted == labels).sum()\n",
        "      print('Iteration:{}       Accuracy:{}% '.format(iters,100 * correct / total))\n",
        "  \n",
        "  "
      ],
      "execution_count": 36,
      "outputs": [
        {
          "output_type": "stream",
          "text": [
            "Iteration:500       Accuracy:84% \n",
            "Iteration:1000       Accuracy:87% \n",
            "Iteration:1500       Accuracy:88% \n",
            "Iteration:2000       Accuracy:88% \n",
            "Iteration:2500       Accuracy:88% \n",
            "Iteration:3000       Accuracy:89% \n"
          ],
          "name": "stdout"
        }
      ]
    }
  ]
}