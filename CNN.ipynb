{
  "nbformat": 4,
  "nbformat_minor": 0,
  "metadata": {
    "colab": {
      "name": "CNN.ipynb",
      "version": "0.3.2",
      "provenance": [],
      "collapsed_sections": []
    },
    "kernelspec": {
      "name": "python3",
      "display_name": "Python 3"
    },
    "accelerator": "GPU"
  },
  "cells": [
    {
      "metadata": {
        "id": "fg9PNCrWi3wJ",
        "colab_type": "text"
      },
      "cell_type": "markdown",
      "source": [
        "# 1) Imports"
      ]
    },
    {
      "metadata": {
        "id": "tgeD0clchBMS",
        "colab_type": "code",
        "colab": {
          "base_uri": "https://localhost:8080/",
          "height": 332
        },
        "outputId": "5d10dd03-9b64-47af-cf3d-1607e0dbdeb2"
      },
      "cell_type": "code",
      "source": [
        "# # http://pytorch.org/\n",
        "# from os.path import exists\n",
        "# from wheel.pep425tags import get_abbr_impl, get_impl_ver, get_abi_tag\n",
        "# platform = '{}{}-{}'.format(get_abbr_impl(), get_impl_ver(), get_abi_tag())\n",
        "# cuda_output = !ldconfig -p|grep cudart.so|sed -e 's/.*\\.\\([0-9]*\\)\\.\\([0-9]*\\)$/cu\\1\\2/'\n",
        "# accelerator = cuda_output[0] if exists('/dev/nvidia0') else 'cpu'\n",
        "\n",
        "# !pip install -q http://download.pytorch.org/whl/{accelerator}/torch-0.4.1-{platform}-linux_x86_64.whl torchvision\n",
        "# import torch\n",
        "!pip install torch torchvision"
      ],
      "execution_count": 1,
      "outputs": [
        {
          "output_type": "stream",
          "text": [
            "Collecting torch\n",
            "\u001b[?25l  Downloading https://files.pythonhosted.org/packages/7e/60/66415660aa46b23b5e1b72bc762e816736ce8d7260213e22365af51e8f9c/torch-1.0.0-cp36-cp36m-manylinux1_x86_64.whl (591.8MB)\n",
            "\u001b[K    100% |████████████████████████████████| 591.8MB 26kB/s \n",
            "tcmalloc: large alloc 1073750016 bytes == 0x60e64000 @  0x7f24b50e52a4 0x591a07 0x5b5d56 0x502e9a 0x506859 0x502209 0x502f3d 0x506859 0x504c28 0x502540 0x502f3d 0x506859 0x504c28 0x502540 0x502f3d 0x506859 0x504c28 0x502540 0x502f3d 0x507641 0x502209 0x502f3d 0x506859 0x504c28 0x502540 0x502f3d 0x507641 0x504c28 0x502540 0x502f3d 0x507641\n",
            "\u001b[?25hCollecting torchvision\n",
            "\u001b[?25l  Downloading https://files.pythonhosted.org/packages/ca/0d/f00b2885711e08bd71242ebe7b96561e6f6d01fdb4b9dcf4d37e2e13c5e1/torchvision-0.2.1-py2.py3-none-any.whl (54kB)\n",
            "\u001b[K    100% |████████████████████████████████| 61kB 21.8MB/s \n",
            "\u001b[?25hRequirement already satisfied: numpy in /usr/local/lib/python3.6/dist-packages (from torchvision) (1.14.6)\n",
            "Collecting pillow>=4.1.1 (from torchvision)\n",
            "\u001b[?25l  Downloading https://files.pythonhosted.org/packages/62/94/5430ebaa83f91cc7a9f687ff5238e26164a779cca2ef9903232268b0a318/Pillow-5.3.0-cp36-cp36m-manylinux1_x86_64.whl (2.0MB)\n",
            "\u001b[K    100% |████████████████████████████████| 2.0MB 4.1MB/s \n",
            "\u001b[?25hRequirement already satisfied: six in /usr/local/lib/python3.6/dist-packages (from torchvision) (1.11.0)\n",
            "Installing collected packages: torch, pillow, torchvision\n",
            "  Found existing installation: Pillow 4.0.0\n",
            "    Uninstalling Pillow-4.0.0:\n",
            "      Successfully uninstalled Pillow-4.0.0\n",
            "Successfully installed pillow-5.3.0 torch-1.0.0 torchvision-0.2.1\n"
          ],
          "name": "stdout"
        }
      ]
    },
    {
      "metadata": {
        "id": "m9SAAVJEg3Ja",
        "colab_type": "code",
        "colab": {}
      },
      "cell_type": "code",
      "source": [
        "import torch\n",
        "import torch.nn as nn\n",
        "import torchvision.datasets as dsets\n",
        "import torchvision.transforms as transforms \n",
        "from torch.autograd import Variable "
      ],
      "execution_count": 0,
      "outputs": []
    },
    {
      "metadata": {
        "id": "JVvFUR1ci-12",
        "colab_type": "text"
      },
      "cell_type": "markdown",
      "source": [
        "#2) Datasets"
      ]
    },
    {
      "metadata": {
        "id": "9pEV4VoIhwaq",
        "colab_type": "code",
        "outputId": "988d488d-40a1-4a8d-adaf-3e2eff78aa3d",
        "colab": {
          "base_uri": "https://localhost:8080/",
          "height": 121
        }
      },
      "cell_type": "code",
      "source": [
        "train_dataset=dsets.MNIST(root='./data',train=True,transform=transforms.ToTensor(),download=True)\n",
        "test_dataset=dsets.MNIST(root='./data',train=False,transform=transforms.ToTensor(),download=True)"
      ],
      "execution_count": 3,
      "outputs": [
        {
          "output_type": "stream",
          "text": [
            "Downloading http://yann.lecun.com/exdb/mnist/train-images-idx3-ubyte.gz\n",
            "Downloading http://yann.lecun.com/exdb/mnist/train-labels-idx1-ubyte.gz\n",
            "Downloading http://yann.lecun.com/exdb/mnist/t10k-images-idx3-ubyte.gz\n",
            "Downloading http://yann.lecun.com/exdb/mnist/t10k-labels-idx1-ubyte.gz\n",
            "Processing...\n",
            "Done!\n"
          ],
          "name": "stdout"
        }
      ]
    },
    {
      "metadata": {
        "id": "Qtk-vyxPjEFb",
        "colab_type": "code",
        "colab": {}
      },
      "cell_type": "code",
      "source": [
        "#hyperparameters\n",
        "\n",
        "batch_size=100\n",
        "iters=3000\n",
        "learning_rate=0.01\n",
        "num_epochs=int(iters*batch_size/len(train_dataset))"
      ],
      "execution_count": 0,
      "outputs": []
    },
    {
      "metadata": {
        "id": "jCH0I8Ahp7ta",
        "colab_type": "code",
        "outputId": "f2f2af2a-405b-4b38-9066-12a1a0229f6e",
        "colab": {
          "base_uri": "https://localhost:8080/",
          "height": 34
        }
      },
      "cell_type": "code",
      "source": [
        "print(num_epochs)"
      ],
      "execution_count": 5,
      "outputs": [
        {
          "output_type": "stream",
          "text": [
            "5\n"
          ],
          "name": "stdout"
        }
      ]
    },
    {
      "metadata": {
        "id": "MSKdLXU6jGTh",
        "colab_type": "text"
      },
      "cell_type": "markdown",
      "source": [
        "#3) Making the dataset iterable"
      ]
    },
    {
      "metadata": {
        "id": "S_WT_U10kf5L",
        "colab_type": "code",
        "colab": {}
      },
      "cell_type": "code",
      "source": [
        "train_loader =  torch.utils.data.DataLoader(dataset=train_dataset,batch_size=batch_size,shuffle=True)\n",
        "test_loader  =  torch.utils.data.DataLoader(dataset=test_dataset,batch_size=batch_size,shuffle=False)\n"
      ],
      "execution_count": 0,
      "outputs": []
    },
    {
      "metadata": {
        "id": "B-Ez0NfojOPG",
        "colab_type": "text"
      },
      "cell_type": "markdown",
      "source": [
        "#4) Making the class model"
      ]
    },
    {
      "metadata": {
        "id": "8t25T1hxk5JZ",
        "colab_type": "code",
        "colab": {}
      },
      "cell_type": "code",
      "source": [
        "class CNNmodel(nn.Module):\n",
        "  def __init__(self):\n",
        "    super(CNNmodel,self).__init__()\n",
        "    \n",
        "    #Conv layer 1\n",
        "    \n",
        "    self.conv1=nn.Conv2d(in_channels=1,out_channels=16,kernel_size=5,stride=1,padding=2) #out-size 28\n",
        "    self.relu1=nn.ReLU()\n",
        "    #MaxPooling layer 1\n",
        "    \n",
        "    self.maxpool1=nn.MaxPool2d(kernel_size=2) #out-size 14\n",
        "    \n",
        "    #Conv layer 2\n",
        "    \n",
        "    self.conv2=nn.Conv2d(in_channels=16,out_channels=32,kernel_size=5,stride=1,padding=2) #out-size 14\n",
        "    self.relu2=nn.ReLU()\n",
        "    \n",
        "    #MaxPooling layer 2\n",
        "    \n",
        "    self.maxpool2=nn.MaxPool2d(kernel_size=2) #out-size 7\n",
        "    \n",
        "    #Readout layer\n",
        "    # 1 x 32 x 7 x 7\n",
        "    self.linear=nn.Linear(32*7*7,10)    #nn.Linear takes (input_dim,output_dim)\n",
        "    \n",
        "  def forward(self,x):\n",
        "    # 1\n",
        "    out=self.conv1(x)\n",
        "    \n",
        "    out=self.relu1(out)\n",
        "    \n",
        "    out=self.maxpool1(out)\n",
        "    \n",
        "    #2\n",
        "    out=self.conv2(out)\n",
        "    \n",
        "    out=self.relu2(out)\n",
        "    \n",
        "    out=self.maxpool2(out)\n",
        "    \n",
        "    out=out.view(out.size(0),-1)\n",
        "    \n",
        "    out = self.linear(out)\n",
        "    \n",
        "    return out"
      ],
      "execution_count": 0,
      "outputs": []
    },
    {
      "metadata": {
        "id": "xIXdZ4F1ZPun",
        "colab_type": "text"
      },
      "cell_type": "markdown",
      "source": [
        "#5) Instantiating a model class"
      ]
    },
    {
      "metadata": {
        "id": "K6T6X8fNug2M",
        "colab_type": "code",
        "colab": {}
      },
      "cell_type": "code",
      "source": [
        "model=CNNmodel()\n"
      ],
      "execution_count": 0,
      "outputs": []
    },
    {
      "metadata": {
        "id": "UMnhG7IiZMZG",
        "colab_type": "code",
        "colab": {}
      },
      "cell_type": "code",
      "source": [
        "#selecting a loss class\n",
        "criterion=nn.CrossEntropyLoss()\n",
        "optimizer=torch.optim.SGD(model.parameters(),lr=learning_rate)"
      ],
      "execution_count": 0,
      "outputs": []
    },
    {
      "metadata": {
        "id": "D55KQH4PZvYA",
        "colab_type": "text"
      },
      "cell_type": "markdown",
      "source": [
        "#6) Training model class"
      ]
    },
    {
      "metadata": {
        "id": "vRCF_FslZtBU",
        "colab_type": "code",
        "outputId": "8a0a7f47-ed00-45a2-8ebc-7e770b2d73f0",
        "colab": {
          "base_uri": "https://localhost:8080/",
          "height": 121
        }
      },
      "cell_type": "code",
      "source": [
        "iters=0\n",
        "for epochs in range(num_epochs):\n",
        "  for i,(images,labels) in enumerate(train_loader):\n",
        "    \n",
        "    #converting images and labels to variables so as to calculate gradient \n",
        "    images=Variable(images)\n",
        "    labels=Variable(labels)\n",
        "  \n",
        "    #clearing gradient buffers\n",
        "    optimizer.zero_grad()\n",
        "    \n",
        "    #finding outputs\n",
        "    output=model(images)\n",
        "    \n",
        "    #calculating losses\n",
        "    loss=criterion(output,labels)\n",
        "  \n",
        "    #backpropagating the loss\n",
        "    loss.backward()\n",
        "    \n",
        "    #updating the parameters\n",
        "    optimizer.step()\n",
        "    \n",
        "    #updating counter\n",
        "    iters+=1\n",
        "    \n",
        "    if iters%500==0:\n",
        "      correct=0\n",
        "      total=0\n",
        "      for images,labels in test_loader:\n",
        "        \n",
        "        images=Variable(images)\n",
        "        \n",
        "        labels=Variable(labels)\n",
        "        \n",
        "        output=model(images)\n",
        "        \n",
        "        _,predicted=torch.max(output.data,1)             # added .data after output \n",
        "        \n",
        "        correct += (predicted == labels).sum().item()\n",
        "        \n",
        "        total+=labels.size(0)\n",
        "        \n",
        "        accuracy=(100*correct)/total\n",
        "      print('Iteration:{}    Loss:{}    Accuracy:{}' .format(iters,loss,accuracy) )\n",
        "    "
      ],
      "execution_count": 10,
      "outputs": [
        {
          "output_type": "stream",
          "text": [
            "Iteration:500    Loss:0.4428042471408844    Accuracy:89.51\n",
            "Iteration:1000    Loss:0.28307169675827026    Accuracy:93.34\n",
            "Iteration:1500    Loss:0.16203220188617706    Accuracy:94.81\n",
            "Iteration:2000    Loss:0.1406887024641037    Accuracy:95.84\n",
            "Iteration:2500    Loss:0.07750476151704788    Accuracy:96.49\n",
            "Iteration:3000    Loss:0.18041855096817017    Accuracy:96.79\n"
          ],
          "name": "stdout"
        }
      ]
    }
  ]
}